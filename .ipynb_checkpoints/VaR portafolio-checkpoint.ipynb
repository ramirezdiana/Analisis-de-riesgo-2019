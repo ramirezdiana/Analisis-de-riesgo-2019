{
 "cells": [
  {
   "cell_type": "code",
   "execution_count": 1,
   "metadata": {},
   "outputs": [],
   "source": [
    "# Importar paquetes\n",
    "import numpy as np\n",
    "import pandas as pd\n",
    "pd.core.common.is_list_like = pd.api.types.is_list_like\n",
    "import pandas_datareader.data as web\n",
    "from scipy.stats import norm"
   ]
  },
  {
   "cell_type": "code",
   "execution_count": 2,
   "metadata": {},
   "outputs": [],
   "source": [
    "# Función para descargar precios de cierre ajustados de varios activos a la vez:\n",
    "def get_closes(tickers, start_date=None, end_date=None, freq=None):\n",
    "    # Fecha inicio por defecto (start_date='2010-01-01') y fecha fin por defecto (end_date=today)\n",
    "    # Frecuencia de muestreo por defecto (freq='d')\n",
    "    # Importamos paquetes necesarios\n",
    "    import pandas as pd\n",
    "    pd.core.common.is_list_like = pd.api.types.is_list_like\n",
    "    import pandas_datareader.data as web  \n",
    "    # Creamos DataFrame vacío de precios, con el índice de las fechas\n",
    "    closes = pd.DataFrame(columns = tickers, index=web.YahooDailyReader(symbols=tickers[0], start=start_date, end=end_date, interval=freq).read().index)\n",
    "    # Agregamos cada uno de los precios con YahooDailyReader\n",
    "    for ticker in tickers:\n",
    "        df = web.YahooDailyReader(symbols=ticker, start=start_date, end=end_date, interval=freq).read()\n",
    "        closes[ticker]=df['Adj Close']\n",
    "    closes.index_name = 'Date'\n",
    "    closes = closes.sort_index()\n",
    "    return closes"
   ]
  },
  {
   "cell_type": "markdown",
   "metadata": {},
   "source": [
    "### MÉTODO PARAMÉTRICO\n",
    "Se usa solamente un mes"
   ]
  },
  {
   "cell_type": "code",
   "execution_count": 3,
   "metadata": {},
   "outputs": [],
   "source": [
    "ticker=['SPY','GLD','USO']\n",
    "start,end='2019-07-20','2019-08-21'\n",
    "closes=get_closes(ticker,start,end,freq='d')"
   ]
  },
  {
   "cell_type": "code",
   "execution_count": 4,
   "metadata": {},
   "outputs": [
    {
     "name": "stdout",
     "output_type": "stream",
     "text": [
      "Quantity of stocks: 3\n",
      "Quantity of titles of stock in order: 8000\n",
      "Quantity of titles of stock in order: 1500\n",
      "Quantity of titles of stock in order: 35000\n"
     ]
    }
   ],
   "source": [
    "ret=closes.pct_change().dropna()\n",
    "cov=ret.cov()\n",
    "numberport=int(input(\"Quantity of stocks: \"))\n",
    "prices=np.empty((numberport,1))\n",
    "for x in range(0,numberport):\n",
    "    prices[x][0] = closes[ticker[x]].iloc[-1]\n",
    "titles=np.empty((numberport,1))\n",
    "for x in range(0,numberport):\n",
    "    titles[x][0]=int(input(\"Quantity of titles of stock in order: \"))\n",
    "totalmatrix=np.multiply(prices, titles)"
   ]
  },
  {
   "cell_type": "code",
   "execution_count": null,
   "metadata": {},
   "outputs": [],
   "source": [
    "exposure = 0\n",
    "for n in totalmatrix:\n",
    "        exposure += n\n",
    "exposure=float(exposure) \n",
    "print(totalmatrix)\n",
    "print (exposure)\n",
    "ws=totalmatrix/exposure\n",
    "wt=np.transpose(ws)\n",
    "cov=np.matrix(cov)\n",
    "x=wt*cov*ws\n",
    "risk=norm.ppf(1-((float(input(\"risk level in percentage \")))/100))\n",
    "var=risk*(exposure)*np.sqrt(x)\n",
    "print(var)\n",
    "\n"
   ]
  },
  {
   "cell_type": "markdown",
   "metadata": {},
   "source": [
    "### MÉTODO NO PARAMÉTRICO"
   ]
  },
  {
   "cell_type": "code",
   "execution_count": 112,
   "metadata": {},
   "outputs": [],
   "source": [
    "start,end='2018-08-22','2019-08-21'\n",
    "closes=get_closes(ticker,start,end,freq='d')\n",
    "ret=closes.pct_change().dropna()"
   ]
  },
  {
   "cell_type": "code",
   "execution_count": 115,
   "metadata": {},
   "outputs": [],
   "source": [
    "ret=pd.DataFrame(ret)\n",
    "prodw=[]\n",
    "for r in range(0,len(ret)):\n",
    "    row=np.matrix(ret.iloc[r])\n",
    "    row=np.transpose(row)\n",
    "    sumpro=np.multiply(ws,row)\n",
    "    sumprod = 0\n",
    "    for n in sumpro:\n",
    "        sumprod += n\n",
    "    prodw.append(float(sumprod))"
   ]
  },
  {
   "cell_type": "code",
   "execution_count": 117,
   "metadata": {},
   "outputs": [
    {
     "name": "stdout",
     "output_type": "stream",
     "text": [
      "-0.02300653425483697\n",
      "2954529.871\n"
     ]
    }
   ],
   "source": [
    "p = np.percentile(prodw, 2.5)\n",
    "print(p)\n",
    "print(exposure)"
   ]
  },
  {
   "cell_type": "code",
   "execution_count": null,
   "metadata": {},
   "outputs": [],
   "source": []
  }
 ],
 "metadata": {
  "kernelspec": {
   "display_name": "Python 3",
   "language": "python",
   "name": "python3"
  },
  "language_info": {
   "codemirror_mode": {
    "name": "ipython",
    "version": 3
   },
   "file_extension": ".py",
   "mimetype": "text/x-python",
   "name": "python",
   "nbconvert_exporter": "python",
   "pygments_lexer": "ipython3",
   "version": "3.6.5"
  }
 },
 "nbformat": 4,
 "nbformat_minor": 2
}
